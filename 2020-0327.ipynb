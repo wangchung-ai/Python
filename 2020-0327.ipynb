{
 "cells": [
  {
   "cell_type": "markdown",
   "metadata": {},
   "source": [
    "# Pandas 時間序列導讀\n",
    "## 本主題使用到的初始設定(同之前)"
   ]
  },
  {
   "cell_type": "code",
   "execution_count": 1,
   "metadata": {},
   "outputs": [],
   "source": [
    "import numpy as np\n",
    "import pandas as pd"
   ]
  },
  {
   "cell_type": "code",
   "execution_count": 2,
   "metadata": {},
   "outputs": [],
   "source": [
    "import matplotlib.pyplot as plt"
   ]
  },
  {
   "cell_type": "code",
   "execution_count": 3,
   "metadata": {},
   "outputs": [],
   "source": [
    "import datetime\n",
    "from datetime import datetime, date"
   ]
  },
  {
   "cell_type": "markdown",
   "metadata": {},
   "source": [
    "## 日期與時間的表示"
   ]
  },
  {
   "cell_type": "markdown",
   "metadata": {},
   "source": [
    "### datetime / day / time 等物件"
   ]
  },
  {
   "cell_type": "code",
   "execution_count": 4,
   "metadata": {},
   "outputs": [
    {
     "data": {
      "text/plain": [
       "datetime.datetime(2020, 4, 4, 15, 22, 17, 24888)"
      ]
     },
     "execution_count": 4,
     "metadata": {},
     "output_type": "execute_result"
    }
   ],
   "source": [
    "datetime.now()"
   ]
  },
  {
   "cell_type": "code",
   "execution_count": 5,
   "metadata": {},
   "outputs": [
    {
     "data": {
      "text/plain": [
       "datetime.date(2020, 4, 4)"
      ]
     },
     "execution_count": 5,
     "metadata": {},
     "output_type": "execute_result"
    }
   ],
   "source": [
    "datetime.date(datetime.now())"
   ]
  },
  {
   "cell_type": "code",
   "execution_count": 6,
   "metadata": {},
   "outputs": [
    {
     "data": {
      "text/plain": [
       "datetime.date(2020, 4, 4)"
      ]
     },
     "execution_count": 6,
     "metadata": {},
     "output_type": "execute_result"
    }
   ],
   "source": [
    "datetime.now().date() # 另一種寫法"
   ]
  },
  {
   "cell_type": "code",
   "execution_count": 7,
   "metadata": {},
   "outputs": [
    {
     "data": {
      "text/plain": [
       "datetime.time(15, 22, 17, 73490)"
      ]
     },
     "execution_count": 7,
     "metadata": {},
     "output_type": "execute_result"
    }
   ],
   "source": [
    "datetime.time(datetime.now())"
   ]
  },
  {
   "cell_type": "code",
   "execution_count": 8,
   "metadata": {},
   "outputs": [
    {
     "data": {
      "text/plain": [
       "datetime.time(15, 22, 17, 79491)"
      ]
     },
     "execution_count": 8,
     "metadata": {},
     "output_type": "execute_result"
    }
   ],
   "source": [
    "datetime.now().time()"
   ]
  },
  {
   "cell_type": "code",
   "execution_count": 9,
   "metadata": {},
   "outputs": [
    {
     "data": {
      "text/plain": [
       "datetime.datetime(2020, 3, 27, 0, 0)"
      ]
     },
     "execution_count": 9,
     "metadata": {},
     "output_type": "execute_result"
    }
   ],
   "source": [
    "datetime(2020, 3, 27) # datetime(2020, 03, 26) 會出錯"
   ]
  },
  {
   "cell_type": "code",
   "execution_count": 10,
   "metadata": {},
   "outputs": [
    {
     "data": {
      "text/plain": [
       "datetime.datetime(2019, 12, 31, 17, 30)"
      ]
     },
     "execution_count": 10,
     "metadata": {},
     "output_type": "execute_result"
    }
   ],
   "source": [
    "datetime(2019, 12, 31, 17, 30)"
   ]
  },
  {
   "cell_type": "code",
   "execution_count": 11,
   "metadata": {},
   "outputs": [
    {
     "data": {
      "text/plain": [
       "datetime.date(2020, 3, 26)"
      ]
     },
     "execution_count": 11,
     "metadata": {},
     "output_type": "execute_result"
    }
   ],
   "source": [
    "datetime.date(datetime(2020, 3, 26))"
   ]
  },
  {
   "cell_type": "markdown",
   "metadata": {},
   "source": [
    "### 更為精準的 Timestamp"
   ]
  },
  {
   "cell_type": "code",
   "execution_count": 12,
   "metadata": {},
   "outputs": [
    {
     "data": {
      "text/plain": [
       "Timestamp('2020-04-04 15:22:17.114493')"
      ]
     },
     "execution_count": 12,
     "metadata": {},
     "output_type": "execute_result"
    }
   ],
   "source": [
    "pd.Timestamp('now')"
   ]
  },
  {
   "cell_type": "code",
   "execution_count": 13,
   "metadata": {},
   "outputs": [
    {
     "data": {
      "text/plain": [
       "Timestamp('2019-12-31 00:00:00')"
      ]
     },
     "execution_count": 13,
     "metadata": {},
     "output_type": "execute_result"
    }
   ],
   "source": [
    "pd.Timestamp('2019-12-31')"
   ]
  },
  {
   "cell_type": "code",
   "execution_count": 14,
   "metadata": {},
   "outputs": [
    {
     "data": {
      "text/plain": [
       "Timestamp('2020-03-27 12:00:00')"
      ]
     },
     "execution_count": 14,
     "metadata": {},
     "output_type": "execute_result"
    }
   ],
   "source": [
    "pd.Timestamp('2020-3-27 12:00')"
   ]
  },
  {
   "cell_type": "code",
   "execution_count": 15,
   "metadata": {},
   "outputs": [
    {
     "data": {
      "text/plain": [
       "Timestamp('2020-04-04 10:00:00')"
      ]
     },
     "execution_count": 15,
     "metadata": {},
     "output_type": "execute_result"
    }
   ],
   "source": [
    "pd.Timestamp('10:00') # 會自己補上日期"
   ]
  },
  {
   "cell_type": "markdown",
   "metadata": {},
   "source": [
    "### 利用 Timedelta 表示區間"
   ]
  },
  {
   "cell_type": "code",
   "execution_count": 16,
   "metadata": {},
   "outputs": [],
   "source": [
    "today = datetime(2020, 4, 3)"
   ]
  },
  {
   "cell_type": "code",
   "execution_count": 17,
   "metadata": {},
   "outputs": [],
   "source": [
    "tomorrow = today + pd.Timedelta(days = 1)"
   ]
  },
  {
   "cell_type": "code",
   "execution_count": 18,
   "metadata": {},
   "outputs": [
    {
     "data": {
      "text/plain": [
       "datetime.datetime(2020, 4, 4, 0, 0)"
      ]
     },
     "execution_count": 18,
     "metadata": {},
     "output_type": "execute_result"
    }
   ],
   "source": [
    "tomorrow"
   ]
  },
  {
   "cell_type": "code",
   "execution_count": 19,
   "metadata": {},
   "outputs": [
    {
     "data": {
      "text/plain": [
       "datetime.timedelta(days=87)"
      ]
     },
     "execution_count": 19,
     "metadata": {},
     "output_type": "execute_result"
    }
   ],
   "source": [
    "date1 = datetime(2020, 3, 27)\n",
    "date2 = datetime(2019, 12, 31)\n",
    "date1 - date2"
   ]
  },
  {
   "cell_type": "markdown",
   "metadata": {},
   "source": [
    "### 以 DatetimeIndex 作為索引"
   ]
  },
  {
   "cell_type": "markdown",
   "metadata": {},
   "source": [
    "### 在機器學習和神經網絡中，常常會利用Numpy庫中的隨機函數來生產隨機數，比如隨機初始化神經網絡中的參數權重W（備註：W是不能全部初始化為0的，這樣會引起symmetry breaking problem ，這樣隱藏層設置多個神經元就沒有任何意義了）。\n",
    "### 在Numpy庫中，常用使用np.random.rand()、np.random.randn()和np.random.randint()隨機函數。這幾個函數的區別如下："
   ]
  },
  {
   "cell_type": "markdown",
   "metadata": {},
   "source": [
    "### 在-1.96～+1.96範圍內曲線下的面積等於0.9500（即取值在這個範圍的概率為95%），在-2.58～+2.58範圍內曲線下面積為0.9900（即取值在這個範圍的概率為99%）.\n",
    "### 因此，由np.random.randn()函數所產生的隨機樣本基本上取值主要在-1.96~+1.96之間，當然也不排除存在較大值的情形，只是概率較小而已。\n",
    "### 2個標準差0.9544、3個標準差0.9974"
   ]
  },
  {
   "cell_type": "code",
   "execution_count": 20,
   "metadata": {},
   "outputs": [
    {
     "data": {
      "text/plain": [
       "2020-03-10   -0.335691\n",
       "2020-03-20    0.807012\n",
       "dtype: float64"
      ]
     },
     "execution_count": 20,
     "metadata": {},
     "output_type": "execute_result"
    }
   ],
   "source": [
    "dates = [datetime(2020, 3, 10), datetime(2020, 3, 20)]\n",
    "ts = pd.Series(np.random.randn(2), dates) # pd.Series([list], index)\n",
    "ts"
   ]
  },
  {
   "cell_type": "code",
   "execution_count": 21,
   "metadata": {},
   "outputs": [
    {
     "data": {
      "text/plain": [
       "2020-03-10    1.331250\n",
       "2020-03-20    1.148613\n",
       "dtype: float64"
      ]
     },
     "execution_count": 21,
     "metadata": {},
     "output_type": "execute_result"
    }
   ],
   "source": [
    "ts2 = pd.Series(np.random.randn(2), index = dates)\n",
    "ts2"
   ]
  },
  {
   "cell_type": "markdown",
   "metadata": {},
   "source": [
    "### 通過本函數可以返回一個或一組服從“0~1”均勻分佈的隨機樣本值。隨機樣本取值範圍是[0,1)，不包括1。\n",
    "### 應用：在深度學習的Dropout正則化方法中，可以用於生成dropout隨機向量（dl），例如（keep_prob表示保留神經元的比例）：dl = np.random.rand(al.shape[0],al .shape[1]) < keep_prob"
   ]
  },
  {
   "cell_type": "code",
   "execution_count": 22,
   "metadata": {},
   "outputs": [
    {
     "data": {
      "text/plain": [
       "2020-03-10    0.174182\n",
       "2020-03-20    0.249327\n",
       "dtype: float64"
      ]
     },
     "execution_count": 22,
     "metadata": {},
     "output_type": "execute_result"
    }
   ],
   "source": [
    "ts3 = pd.Series(np.random.rand(2), index = dates) #np.random.rand() 0~1 之間的標準常態分佈，包含 0，不包含 1\n",
    "ts3"
   ]
  },
  {
   "cell_type": "markdown",
   "metadata": {},
   "source": [
    "### 輸入：\n",
    "\n",
    "* low—–為最小值\n",
    "\n",
    "* high—-為最大值\n",
    "\n",
    "* size—–為數組維度大小\n",
    "\n",
    "* dtype—為數據類型，默認的數據類型是np.int。\n",
    "\n",
    "\n",
    "### 返回值：\n",
    "返回隨機整數或整型數組，範圍區間為(low,high)，包含low，不包含high；\n",
    "high沒有填寫時，默認生成隨機數的範圍是(0，low)\n"
   ]
  },
  {
   "cell_type": "code",
   "execution_count": 23,
   "metadata": {},
   "outputs": [
    {
     "data": {
      "text/plain": [
       "array([[15, 16, 12,  8],\n",
       "       [18, 14, 11,  6],\n",
       "       [ 8,  6,  1,  3],\n",
       "       [ 4,  9,  6,  1]], dtype=uint8)"
      ]
     },
     "execution_count": 23,
     "metadata": {},
     "output_type": "execute_result"
    }
   ],
   "source": [
    "ts4 = np.random.randint(1, 20, size=(4, 4), dtype='uint8')\n",
    "ts4                "
   ]
  },
  {
   "cell_type": "code",
   "execution_count": 24,
   "metadata": {},
   "outputs": [
    {
     "data": {
      "text/plain": [
       "2020-03-10    3\n",
       "2020-03-20    3\n",
       "dtype: int64"
      ]
     },
     "execution_count": 24,
     "metadata": {},
     "output_type": "execute_result"
    }
   ],
   "source": [
    "ts5 = pd.Series(np.random.randint(1, 20), index = dates)\n",
    "ts5"
   ]
  },
  {
   "cell_type": "code",
   "execution_count": 25,
   "metadata": {},
   "outputs": [
    {
     "data": {
      "text/plain": [
       "2020-03-20   -0.204708\n",
       "2020-03-26    0.478943\n",
       "dtype: float64"
      ]
     },
     "execution_count": 25,
     "metadata": {},
     "output_type": "execute_result"
    }
   ],
   "source": [
    "np.random.seed(12345)\n",
    "dates = ['2020-03-20', '2020-03-26']\n",
    "ts = pd.Series(np.random.randn(2), dates)\n",
    "ts"
   ]
  },
  {
   "cell_type": "code",
   "execution_count": 26,
   "metadata": {},
   "outputs": [
    {
     "data": {
      "text/plain": [
       "pandas.core.indexes.base.Index"
      ]
     },
     "execution_count": 26,
     "metadata": {},
     "output_type": "execute_result"
    }
   ],
   "source": [
    "type(ts.index)"
   ]
  },
  {
   "cell_type": "code",
   "execution_count": 27,
   "metadata": {},
   "outputs": [
    {
     "data": {
      "text/plain": [
       "str"
      ]
     },
     "execution_count": 27,
     "metadata": {},
     "output_type": "execute_result"
    }
   ],
   "source": [
    "type(ts.index[0])"
   ]
  },
  {
   "cell_type": "code",
   "execution_count": 28,
   "metadata": {},
   "outputs": [
    {
     "data": {
      "text/plain": [
       "str"
      ]
     },
     "execution_count": 28,
     "metadata": {},
     "output_type": "execute_result"
    }
   ],
   "source": [
    "type(ts.index[1])"
   ]
  },
  {
   "cell_type": "code",
   "execution_count": 29,
   "metadata": {},
   "outputs": [
    {
     "name": "stdout",
     "output_type": "stream",
     "text": [
      "2019-12-01 00:00:00\n",
      "2019-12-02 00:00:00\n",
      "2019-12-03 00:00:00\n",
      "NaT\n"
     ]
    }
   ],
   "source": [
    "dti = pd.to_datetime(['Dec 1, 2019', '2019-12-02', '2019.12.3', None])\n",
    "for x in dti: print(x)"
   ]
  },
  {
   "cell_type": "code",
   "execution_count": 30,
   "metadata": {},
   "outputs": [
    {
     "data": {
      "text/plain": [
       "DatetimeIndex(['2019-12-01', 'NaT'], dtype='datetime64[ns]', freq=None)"
      ]
     },
     "execution_count": 30,
     "metadata": {},
     "output_type": "execute_result"
    }
   ],
   "source": [
    "pd.to_datetime(['Dec 1, 2019', 'mytestnondate'], errors='coerce')"
   ]
  },
  {
   "cell_type": "markdown",
   "metadata": {},
   "source": [
    "## 練習產生時間序列"
   ]
  },
  {
   "cell_type": "code",
   "execution_count": 31,
   "metadata": {},
   "outputs": [
    {
     "data": {
      "text/plain": [
       "2020-03-01   -0.204708\n",
       "2020-03-02    0.478943\n",
       "2020-03-03   -0.519439\n",
       "2020-03-04   -0.555730\n",
       "2020-03-05    1.965781\n",
       "2020-03-06    1.393406\n",
       "2020-03-07    0.092908\n",
       "2020-03-08    0.281746\n",
       "2020-03-09    0.769023\n",
       "2020-03-10    1.246435\n",
       "2020-03-11    1.007189\n",
       "2020-03-12   -1.296221\n",
       "2020-03-13    0.274992\n",
       "2020-03-14    0.228913\n",
       "2020-03-15    1.352917\n",
       "Freq: D, dtype: float64"
      ]
     },
     "execution_count": 31,
     "metadata": {},
     "output_type": "execute_result"
    }
   ],
   "source": [
    "np.random.seed(12345)\n",
    "periods = pd.date_range('3/1/2020', periods=15)\n",
    "dateSeries = pd.Series(np.random.randn(15), index=periods)\n",
    "dateSeries"
   ]
  },
  {
   "cell_type": "markdown",
   "metadata": {},
   "source": [
    "## 兩種定義 觀看 np.random.seed(xxx) 用法，xxx可自訂數字 "
   ]
  },
  {
   "cell_type": "code",
   "execution_count": 32,
   "metadata": {},
   "outputs": [
    {
     "name": "stdout",
     "output_type": "stream",
     "text": [
      "[0.69646919 0.28613933 0.22685145 0.55131477]\n",
      "[0.69646919 0.28613933 0.22685145 0.55131477]\n",
      "[0.69646919 0.28613933 0.22685145 0.55131477]\n",
      "[0.69646919 0.28613933 0.22685145 0.55131477]\n",
      "[0.69646919 0.28613933 0.22685145 0.55131477]\n"
     ]
    }
   ],
   "source": [
    "def rng():\n",
    "    for i in range(5):\n",
    "        np.random.seed(123)\n",
    "        print(np.random.rand(4))\n",
    "        \n",
    "rng()"
   ]
  },
  {
   "cell_type": "code",
   "execution_count": 33,
   "metadata": {},
   "outputs": [
    {
     "name": "stdout",
     "output_type": "stream",
     "text": [
      "[0.69646919 0.28613933 0.22685145 0.55131477]\n",
      "[0.71946897 0.42310646 0.9807642  0.68482974]\n",
      "[0.4809319  0.39211752 0.34317802 0.72904971]\n",
      "[0.43857224 0.0596779  0.39804426 0.73799541]\n",
      "[0.18249173 0.17545176 0.53155137 0.53182759]\n"
     ]
    }
   ],
   "source": [
    "def rng_n():\n",
    "    np.random.seed(123)\n",
    "    for i in range(5):\n",
    "        print(np.random.rand(4))\n",
    "        \n",
    "rng_n()"
   ]
  },
  {
   "cell_type": "code",
   "execution_count": 34,
   "metadata": {},
   "outputs": [
    {
     "data": {
      "text/plain": [
       "1.2464347363862822"
      ]
     },
     "execution_count": 34,
     "metadata": {},
     "output_type": "execute_result"
    }
   ],
   "source": [
    "dateSeries['2020-03-10']"
   ]
  },
  {
   "cell_type": "code",
   "execution_count": 35,
   "metadata": {},
   "outputs": [
    {
     "data": {
      "text/plain": [
       "2020-03-10    1.246435\n",
       "2020-03-11    1.007189\n",
       "2020-03-12   -1.296221\n",
       "Freq: D, dtype: float64"
      ]
     },
     "execution_count": 35,
     "metadata": {},
     "output_type": "execute_result"
    }
   ],
   "source": [
    "dateSeries['2020-03-10':'2020-03-12']"
   ]
  },
  {
   "cell_type": "code",
   "execution_count": 36,
   "metadata": {},
   "outputs": [
    {
     "data": {
      "text/plain": [
       "2020-03-07    0.092908\n",
       "2020-03-08    0.281746\n",
       "2020-03-09    0.769023\n",
       "2020-03-10    1.246435\n",
       "Freq: D, dtype: float64"
      ]
     },
     "execution_count": 36,
     "metadata": {},
     "output_type": "execute_result"
    }
   ],
   "source": [
    "subset = dateSeries[6:10]\n",
    "subset"
   ]
  },
  {
   "cell_type": "code",
   "execution_count": 37,
   "metadata": {},
   "outputs": [
    {
     "data": {
      "text/plain": [
       "2020-03-07       10\n",
       "2020-03-08      100\n",
       "2020-03-09     1000\n",
       "2020-03-10    10000\n",
       "Freq: D, dtype: int64"
      ]
     },
     "execution_count": 37,
     "metadata": {},
     "output_type": "execute_result"
    }
   ],
   "source": [
    "s2 = pd.Series([10, 100, 1000, 10000], subset.index)\n",
    "s2"
   ]
  },
  {
   "cell_type": "code",
   "execution_count": 38,
   "metadata": {},
   "outputs": [
    {
     "data": {
      "text/plain": [
       "2020-03-01             NaN\n",
       "2020-03-02             NaN\n",
       "2020-03-03             NaN\n",
       "2020-03-04             NaN\n",
       "2020-03-05             NaN\n",
       "2020-03-06             NaN\n",
       "2020-03-07       10.092908\n",
       "2020-03-08      100.281746\n",
       "2020-03-09     1000.769023\n",
       "2020-03-10    10001.246435\n",
       "2020-03-11             NaN\n",
       "2020-03-12             NaN\n",
       "2020-03-13             NaN\n",
       "2020-03-14             NaN\n",
       "2020-03-15             NaN\n",
       "Freq: D, dtype: float64"
      ]
     },
     "execution_count": 38,
     "metadata": {},
     "output_type": "execute_result"
    }
   ],
   "source": [
    "dateSeries + s2"
   ]
  },
  {
   "cell_type": "code",
   "execution_count": 39,
   "metadata": {},
   "outputs": [
    {
     "data": {
      "text/plain": [
       "2019-11-01    0\n",
       "2019-11-02    0\n",
       "2019-11-03    0\n",
       "2019-11-04    0\n",
       "2019-11-05    0\n",
       "             ..\n",
       "2019-12-27    0\n",
       "2019-12-28    0\n",
       "2019-12-29    0\n",
       "2019-12-30    0\n",
       "2019-12-31    0\n",
       "Freq: D, Length: 61, dtype: int64"
      ]
     },
     "execution_count": 39,
     "metadata": {},
     "output_type": "execute_result"
    }
   ],
   "source": [
    "s3 = pd.Series(0, pd.date_range('2019-11-01','2020-12-31'))\n",
    "s3['2019']"
   ]
  },
  {
   "cell_type": "code",
   "execution_count": 40,
   "metadata": {},
   "outputs": [
    {
     "data": {
      "text/plain": [
       "2019-11-01    0\n",
       "2019-11-02    0\n",
       "2019-11-03    0\n",
       "2019-11-04    0\n",
       "2019-11-05    0\n",
       "2019-11-06    0\n",
       "2019-11-07    0\n",
       "2019-11-08    0\n",
       "2019-11-09    0\n",
       "2019-11-10    0\n",
       "2019-11-11    0\n",
       "2019-11-12    0\n",
       "2019-11-13    0\n",
       "2019-11-14    0\n",
       "2019-11-15    0\n",
       "2019-11-16    0\n",
       "2019-11-17    0\n",
       "2019-11-18    0\n",
       "2019-11-19    0\n",
       "2019-11-20    0\n",
       "2019-11-21    0\n",
       "2019-11-22    0\n",
       "2019-11-23    0\n",
       "2019-11-24    0\n",
       "2019-11-25    0\n",
       "2019-11-26    0\n",
       "2019-11-27    0\n",
       "2019-11-28    0\n",
       "2019-11-29    0\n",
       "2019-11-30    0\n",
       "Freq: D, dtype: int64"
      ]
     },
     "execution_count": 40,
     "metadata": {},
     "output_type": "execute_result"
    }
   ],
   "source": [
    "s3['2019-11']"
   ]
  },
  {
   "cell_type": "code",
   "execution_count": 41,
   "metadata": {},
   "outputs": [
    {
     "data": {
      "text/plain": [
       "2020-02-01    0\n",
       "2020-02-02    0\n",
       "2020-02-03    0\n",
       "2020-02-04    0\n",
       "2020-02-05    0\n",
       "2020-02-06    0\n",
       "2020-02-07    0\n",
       "2020-02-08    0\n",
       "2020-02-09    0\n",
       "2020-02-10    0\n",
       "2020-02-11    0\n",
       "2020-02-12    0\n",
       "2020-02-13    0\n",
       "2020-02-14    0\n",
       "2020-02-15    0\n",
       "2020-02-16    0\n",
       "2020-02-17    0\n",
       "2020-02-18    0\n",
       "2020-02-19    0\n",
       "2020-02-20    0\n",
       "2020-02-21    0\n",
       "2020-02-22    0\n",
       "2020-02-23    0\n",
       "2020-02-24    0\n",
       "2020-02-25    0\n",
       "2020-02-26    0\n",
       "2020-02-27    0\n",
       "2020-02-28    0\n",
       "2020-02-29    0\n",
       "2020-03-01    0\n",
       "2020-03-02    0\n",
       "2020-03-03    0\n",
       "2020-03-04    0\n",
       "2020-03-05    0\n",
       "2020-03-06    0\n",
       "2020-03-07    0\n",
       "2020-03-08    0\n",
       "2020-03-09    0\n",
       "2020-03-10    0\n",
       "2020-03-11    0\n",
       "2020-03-12    0\n",
       "2020-03-13    0\n",
       "2020-03-14    0\n",
       "2020-03-15    0\n",
       "2020-03-16    0\n",
       "2020-03-17    0\n",
       "2020-03-18    0\n",
       "2020-03-19    0\n",
       "2020-03-20    0\n",
       "2020-03-21    0\n",
       "2020-03-22    0\n",
       "2020-03-23    0\n",
       "2020-03-24    0\n",
       "2020-03-25    0\n",
       "2020-03-26    0\n",
       "2020-03-27    0\n",
       "2020-03-28    0\n",
       "2020-03-29    0\n",
       "2020-03-30    0\n",
       "2020-03-31    0\n",
       "Freq: D, dtype: int64"
      ]
     },
     "execution_count": 41,
     "metadata": {},
     "output_type": "execute_result"
    }
   ],
   "source": [
    "s3['2020-02':'2020-03']"
   ]
  },
  {
   "cell_type": "code",
   "execution_count": 42,
   "metadata": {},
   "outputs": [
    {
     "data": {
      "text/plain": [
       "2019-11-01 00:00:00   -0.204708\n",
       "2019-11-01 00:01:00    0.478943\n",
       "2019-11-01 00:02:00   -0.519439\n",
       "2019-11-01 00:03:00   -0.555730\n",
       "2019-11-01 00:04:00    1.965781\n",
       "Freq: T, dtype: float64"
      ]
     },
     "execution_count": 42,
     "metadata": {},
     "output_type": "execute_result"
    }
   ],
   "source": [
    "np.random.seed(12345)\n",
    "bymin = pd.Series(np.random.randn(24*60*61),\n",
    "                 pd.date_range('2019-11-01','2019-12-31 23:59',\n",
    "                              freq ='T'))\n",
    "bymin[:5]"
   ]
  },
  {
   "cell_type": "code",
   "execution_count": 43,
   "metadata": {},
   "outputs": [
    {
     "data": {
      "text/plain": [
       "2019-11-03 00:02:00    0.579498\n",
       "2019-11-03 00:03:00   -2.261761\n",
       "2019-11-03 00:04:00   -0.891224\n",
       "2019-11-03 00:05:00   -1.953536\n",
       "2019-11-03 00:06:00    0.594454\n",
       "2019-11-03 00:07:00    1.922484\n",
       "Freq: T, dtype: float64"
      ]
     },
     "execution_count": 43,
     "metadata": {},
     "output_type": "execute_result"
    }
   ],
   "source": [
    "bymin['2019-11-03 00:02':'2019-11-03 00:07']"
   ]
  },
  {
   "cell_type": "code",
   "execution_count": 44,
   "metadata": {},
   "outputs": [
    {
     "data": {
      "text/plain": [
       "DatetimeIndex(['2020-02-20', '2020-02-21', '2020-02-24', '2020-02-25',\n",
       "               '2020-02-26', '2020-02-27', '2020-02-28', '2020-03-02'],\n",
       "              dtype='datetime64[ns]', freq='B')"
      ]
     },
     "execution_count": 44,
     "metadata": {},
     "output_type": "execute_result"
    }
   ],
   "source": [
    "days = pd.date_range('2020-02-20', '2020-03-02', freq='B')\n",
    "days"
   ]
  },
  {
   "cell_type": "code",
   "execution_count": 45,
   "metadata": {},
   "outputs": [
    {
     "data": {
      "text/plain": [
       "DatetimeIndex(['2020-03-26 09:10:01', '2020-03-26 09:10:02',\n",
       "               '2020-03-26 09:10:03', '2020-03-26 09:10:04',\n",
       "               '2020-03-26 09:10:05'],\n",
       "              dtype='datetime64[ns]', freq='S')"
      ]
     },
     "execution_count": 45,
     "metadata": {},
     "output_type": "execute_result"
    }
   ],
   "source": [
    "pd.date_range('2020-03-26 09:10:01', freq='S', periods=5)"
   ]
  },
  {
   "cell_type": "code",
   "execution_count": 46,
   "metadata": {},
   "outputs": [],
   "source": [
    "from pandas.tseries.offsets import DateOffset"
   ]
  },
  {
   "cell_type": "code",
   "execution_count": 47,
   "metadata": {},
   "outputs": [],
   "source": [
    "d = datetime(2019, 12, 31)"
   ]
  },
  {
   "cell_type": "code",
   "execution_count": 48,
   "metadata": {},
   "outputs": [
    {
     "data": {
      "text/plain": [
       "datetime.datetime(2019, 12, 31, 0, 0)"
      ]
     },
     "execution_count": 48,
     "metadata": {},
     "output_type": "execute_result"
    }
   ],
   "source": [
    "d "
   ]
  },
  {
   "cell_type": "markdown",
   "metadata": {},
   "source": [
    "# 小技巧 - 定錨偏移"
   ]
  },
  {
   "cell_type": "markdown",
   "metadata": {},
   "source": [
    "## W-SUN / MON / TUE / THU / WED /FRI /SAT"
   ]
  },
  {
   "cell_type": "code",
   "execution_count": 49,
   "metadata": {},
   "outputs": [],
   "source": [
    "wednesdays = pd.date_range('2020-02-01', '2020-03-31', freq='W-WED')"
   ]
  },
  {
   "cell_type": "code",
   "execution_count": 50,
   "metadata": {},
   "outputs": [
    {
     "data": {
      "text/plain": [
       "DatetimeIndex(['2020-02-05', '2020-02-12', '2020-02-19', '2020-02-26',\n",
       "               '2020-03-04', '2020-03-11', '2020-03-18', '2020-03-25'],\n",
       "              dtype='datetime64[ns]', freq='W-WED')"
      ]
     },
     "execution_count": 50,
     "metadata": {},
     "output_type": "execute_result"
    }
   ],
   "source": [
    "wednesdays"
   ]
  },
  {
   "cell_type": "code",
   "execution_count": 51,
   "metadata": {},
   "outputs": [
    {
     "data": {
      "text/plain": [
       "array(['2020-02-05T00:00:00.000000000', '2020-02-12T00:00:00.000000000',\n",
       "       '2020-02-19T00:00:00.000000000', '2020-02-26T00:00:00.000000000',\n",
       "       '2020-03-04T00:00:00.000000000', '2020-03-11T00:00:00.000000000',\n",
       "       '2020-03-18T00:00:00.000000000', '2020-03-25T00:00:00.000000000'],\n",
       "      dtype='datetime64[ns]')"
      ]
     },
     "execution_count": 51,
     "metadata": {},
     "output_type": "execute_result"
    }
   ],
   "source": [
    "wednesdays.values"
   ]
  },
  {
   "cell_type": "code",
   "execution_count": 52,
   "metadata": {},
   "outputs": [],
   "source": [
    "qends = pd.date_range('2020-01-01', '2020-12-31', freq = 'BQS-JUN')"
   ]
  },
  {
   "cell_type": "code",
   "execution_count": 53,
   "metadata": {},
   "outputs": [
    {
     "data": {
      "text/plain": [
       "array(['2020-03-02T00:00:00.000000000', '2020-06-01T00:00:00.000000000',\n",
       "       '2020-09-01T00:00:00.000000000', '2020-12-01T00:00:00.000000000'],\n",
       "      dtype='datetime64[ns]')"
      ]
     },
     "execution_count": 53,
     "metadata": {},
     "output_type": "execute_result"
    }
   ],
   "source": [
    "qends.values #以六月底為基礎，列出兩個區間的季末的月初營業日"
   ]
  },
  {
   "cell_type": "code",
   "execution_count": 54,
   "metadata": {},
   "outputs": [
    {
     "data": {
      "text/plain": [
       "array(['2020-02-03T00:00:00.000000000', '2020-05-01T00:00:00.000000000',\n",
       "       '2020-08-03T00:00:00.000000000', '2020-11-02T00:00:00.000000000'],\n",
       "      dtype='datetime64[ns]')"
      ]
     },
     "execution_count": 54,
     "metadata": {},
     "output_type": "execute_result"
    }
   ],
   "source": [
    "qends = pd.date_range('2020-01-01', '2020-12-31', freq='BQS-FEB')\n",
    "qends.values #定錨不同答案也不同"
   ]
  },
  {
   "cell_type": "markdown",
   "metadata": {},
   "source": [
    " # 利用 Period 表示持續時間 & 索引"
   ]
  },
  {
   "cell_type": "code",
   "execution_count": 55,
   "metadata": {},
   "outputs": [
    {
     "data": {
      "text/plain": [
       "Period('2020-03', 'M')"
      ]
     },
     "execution_count": 55,
     "metadata": {},
     "output_type": "execute_result"
    }
   ],
   "source": [
    "M2020 = pd.Period('2020-03', freq='M')\n",
    "M2020"
   ]
  },
  {
   "cell_type": "code",
   "execution_count": 56,
   "metadata": {},
   "outputs": [
    {
     "data": {
      "text/plain": [
       "(Timestamp('2020-03-01 00:00:00'), Timestamp('2020-03-31 23:59:59.999999999'))"
      ]
     },
     "execution_count": 56,
     "metadata": {},
     "output_type": "execute_result"
    }
   ],
   "source": [
    "M2020.start_time, M2020.end_time"
   ]
  },
  {
   "cell_type": "code",
   "execution_count": 57,
   "metadata": {},
   "outputs": [
    {
     "data": {
      "text/plain": [
       "Period('2020-04', 'M')"
      ]
     },
     "execution_count": 57,
     "metadata": {},
     "output_type": "execute_result"
    }
   ],
   "source": [
    "A2020 = M2020 + 1\n",
    "A2020"
   ]
  },
  {
   "cell_type": "code",
   "execution_count": 58,
   "metadata": {},
   "outputs": [
    {
     "data": {
      "text/plain": [
       "(Timestamp('2020-04-01 00:00:00'), Timestamp('2020-04-30 23:59:59.999999999'))"
      ]
     },
     "execution_count": 58,
     "metadata": {},
     "output_type": "execute_result"
    }
   ],
   "source": [
    "A2020.start_time, A2020.end_time"
   ]
  },
  {
   "cell_type": "code",
   "execution_count": 59,
   "metadata": {},
   "outputs": [
    {
     "data": {
      "text/plain": [
       "PeriodIndex(['2019-01', '2019-02', '2019-03', '2019-04', '2019-05', '2019-06',\n",
       "             '2019-07', '2019-08', '2019-09', '2019-10', '2019-11', '2019-12'],\n",
       "            dtype='period[M]', freq='M')"
      ]
     },
     "execution_count": 59,
     "metadata": {},
     "output_type": "execute_result"
    }
   ],
   "source": [
    "Y2019 = pd.period_range('1/1/2019', '12/31/2019', freq='M')\n",
    "Y2019"
   ]
  },
  {
   "cell_type": "code",
   "execution_count": 60,
   "metadata": {},
   "outputs": [
    {
     "name": "stdout",
     "output_type": "stream",
     "text": [
      "2019-01-01 00:00:002019-01-31 23:59:59.999999999\n",
      "2019-02-01 00:00:002019-02-28 23:59:59.999999999\n",
      "2019-03-01 00:00:002019-03-31 23:59:59.999999999\n",
      "2019-04-01 00:00:002019-04-30 23:59:59.999999999\n",
      "2019-05-01 00:00:002019-05-31 23:59:59.999999999\n",
      "2019-06-01 00:00:002019-06-30 23:59:59.999999999\n",
      "2019-07-01 00:00:002019-07-31 23:59:59.999999999\n",
      "2019-08-01 00:00:002019-08-31 23:59:59.999999999\n",
      "2019-09-01 00:00:002019-09-30 23:59:59.999999999\n",
      "2019-10-01 00:00:002019-10-31 23:59:59.999999999\n",
      "2019-11-01 00:00:002019-11-30 23:59:59.999999999\n",
      "2019-12-01 00:00:002019-12-31 23:59:59.999999999\n"
     ]
    }
   ],
   "source": [
    "for p in Y2019:\n",
    "    print('{0}{1}'.format(p.start_time, p.end_time))"
   ]
  },
  {
   "cell_type": "code",
   "execution_count": 61,
   "metadata": {},
   "outputs": [
    {
     "data": {
      "text/plain": [
       "2019-01   -0.204708\n",
       "2019-02    0.478943\n",
       "2019-03   -0.519439\n",
       "Freq: M, dtype: float64"
      ]
     },
     "execution_count": 61,
     "metadata": {},
     "output_type": "execute_result"
    }
   ],
   "source": [
    "np.random.seed(12345)\n",
    "ps = pd.Series(np.random.randn(12), Y2019)\n",
    "ps.head(3)"
   ]
  },
  {
   "cell_type": "code",
   "execution_count": 62,
   "metadata": {},
   "outputs": [
    {
     "data": {
      "text/plain": [
       "2019-01   -0.204708\n",
       "2019-02    0.478943\n",
       "2019-03   -0.519439\n",
       "Freq: M, dtype: float64"
      ]
     },
     "execution_count": 62,
     "metadata": {},
     "output_type": "execute_result"
    }
   ],
   "source": [
    "ps[:3]"
   ]
  },
  {
   "cell_type": "code",
   "execution_count": 63,
   "metadata": {},
   "outputs": [],
   "source": [
    "np.random.seed(123456)\n",
    "ps = pd.Series(np.random.randn(24),\n",
    "              pd.period_range('1/1/2019', '12/31/2020',\n",
    "                             freq='M'))"
   ]
  },
  {
   "cell_type": "code",
   "execution_count": 64,
   "metadata": {},
   "outputs": [
    {
     "data": {
      "text/plain": [
       "2020-08   -1.087401\n",
       "2020-09   -0.673690\n",
       "2020-10    0.113648\n",
       "2020-11   -1.478427\n",
       "2020-12    0.524988\n",
       "Freq: M, dtype: float64"
      ]
     },
     "execution_count": 64,
     "metadata": {},
     "output_type": "execute_result"
    }
   ],
   "source": [
    "ps.tail()"
   ]
  },
  {
   "cell_type": "code",
   "execution_count": 65,
   "metadata": {},
   "outputs": [
    {
     "data": {
      "text/plain": [
       "2020-08   -1.087401\n",
       "2020-09   -0.673690\n",
       "2020-10    0.113648\n",
       "2020-11   -1.478427\n",
       "2020-12    0.524988\n",
       "Freq: M, dtype: float64"
      ]
     },
     "execution_count": 65,
     "metadata": {},
     "output_type": "execute_result"
    }
   ],
   "source": [
    "ps['2020'].tail()"
   ]
  },
  {
   "cell_type": "code",
   "execution_count": 66,
   "metadata": {},
   "outputs": [
    {
     "data": {
      "text/plain": [
       "2020-03   -1.039575\n",
       "2020-04    0.271860\n",
       "2020-05   -0.424972\n",
       "2020-06    0.567020\n",
       "Freq: M, dtype: float64"
      ]
     },
     "execution_count": 66,
     "metadata": {},
     "output_type": "execute_result"
    }
   ],
   "source": [
    "ps['2020-03':'2020-06']"
   ]
  },
  {
   "cell_type": "markdown",
   "metadata": {},
   "source": [
    "# 處理日曆中的假日"
   ]
  },
  {
   "cell_type": "code",
   "execution_count": 4,
   "metadata": {},
   "outputs": [],
   "source": [
    "from pandas.tseries.holiday import USFederalHolidayCalendar"
   ]
  },
  {
   "cell_type": "code",
   "execution_count": 68,
   "metadata": {},
   "outputs": [
    {
     "name": "stdout",
     "output_type": "stream",
     "text": [
      "2020-01-01 00:00:00\n",
      "2020-01-20 00:00:00\n",
      "2020-02-17 00:00:00\n"
     ]
    }
   ],
   "source": [
    "cal = USFederalHolidayCalendar()\n",
    "for d in cal.holidays(start='2020-01-01', end='2020-03-31'):\n",
    "    print(d)"
   ]
  },
  {
   "cell_type": "markdown",
   "metadata": {},
   "source": [
    "## 正是操控時序資料 - shift()"
   ]
  },
  {
   "cell_type": "code",
   "execution_count": 73,
   "metadata": {},
   "outputs": [
    {
     "data": {
      "text/plain": [
       "2020-03-01    1.0\n",
       "2020-03-02    2.0\n",
       "2020-03-03    2.5\n",
       "2020-03-04    1.5\n",
       "2020-03-05    0.5\n",
       "Freq: D, dtype: float64"
      ]
     },
     "execution_count": 73,
     "metadata": {},
     "output_type": "execute_result"
    }
   ],
   "source": [
    "np.random.seed(12345)\n",
    "ts = pd.Series([1, 2, 2.5, 1.5, 0.5], pd.date_range('2020-03-01', periods=5))\n",
    "ts"
   ]
  },
  {
   "cell_type": "code",
   "execution_count": 74,
   "metadata": {},
   "outputs": [
    {
     "data": {
      "text/plain": [
       "2020-03-01    NaN\n",
       "2020-03-02    1.0\n",
       "2020-03-03    2.0\n",
       "2020-03-04    2.5\n",
       "2020-03-05    1.5\n",
       "Freq: D, dtype: float64"
      ]
     },
     "execution_count": 74,
     "metadata": {},
     "output_type": "execute_result"
    }
   ],
   "source": [
    "ts.shift(1)"
   ]
  },
  {
   "cell_type": "code",
   "execution_count": 75,
   "metadata": {},
   "outputs": [
    {
     "data": {
      "text/plain": [
       "2020-03-01    2.5\n",
       "2020-03-02    1.5\n",
       "2020-03-03    0.5\n",
       "2020-03-04    NaN\n",
       "2020-03-05    NaN\n",
       "Freq: D, dtype: float64"
      ]
     },
     "execution_count": 75,
     "metadata": {},
     "output_type": "execute_result"
    }
   ],
   "source": [
    "ts.shift(-2)"
   ]
  },
  {
   "cell_type": "code",
   "execution_count": 76,
   "metadata": {},
   "outputs": [
    {
     "data": {
      "text/plain": [
       "2020-03-01         NaN\n",
       "2020-03-02    2.000000\n",
       "2020-03-03    1.250000\n",
       "2020-03-04    0.600000\n",
       "2020-03-05    0.333333\n",
       "Freq: D, dtype: float64"
      ]
     },
     "execution_count": 76,
     "metadata": {},
     "output_type": "execute_result"
    }
   ],
   "source": [
    "ts / ts.shift(1)"
   ]
  },
  {
   "cell_type": "code",
   "execution_count": 77,
   "metadata": {},
   "outputs": [
    {
     "data": {
      "text/plain": [
       "2020-03-01         NaN\n",
       "2020-03-02    2.000000\n",
       "2020-03-03    1.250000\n",
       "2020-03-04    0.600000\n",
       "2020-03-05    0.333333\n",
       "2020-03-06         NaN\n",
       "Freq: D, dtype: float64"
      ]
     },
     "execution_count": 77,
     "metadata": {},
     "output_type": "execute_result"
    }
   ],
   "source": [
    "ts / ts.shift(1, freq='B')"
   ]
  },
  {
   "cell_type": "code",
   "execution_count": 79,
   "metadata": {},
   "outputs": [
    {
     "data": {
      "text/plain": [
       "2020-03-01   -0.204708\n",
       "2020-03-02    0.478943\n",
       "2020-03-03   -0.519439\n",
       "2020-03-04   -0.555730\n",
       "2020-03-05    1.965781\n",
       "2020-03-06    1.393406\n",
       "2020-03-07    0.092908\n",
       "2020-03-08    0.281746\n",
       "2020-03-09    0.769023\n",
       "2020-03-10    1.246435\n",
       "2020-03-11    1.007189\n",
       "2020-03-12   -1.296221\n",
       "2020-03-13    0.274992\n",
       "2020-03-14    0.228913\n",
       "Freq: D, dtype: float64"
      ]
     },
     "execution_count": 79,
     "metadata": {},
     "output_type": "execute_result"
    }
   ],
   "source": [
    "ts = pd.Series(np.random.randn(14), \n",
    "            pd.date_range('2020-03-01', periods=14))\n",
    "ts"
   ]
  },
  {
   "cell_type": "code",
   "execution_count": 80,
   "metadata": {},
   "outputs": [
    {
     "data": {
      "text/plain": [
       "2020-03-01         NaN\n",
       "2020-03-02   -2.339645\n",
       "2020-03-03   -1.084551\n",
       "2020-03-04    1.069867\n",
       "2020-03-05   -3.537292\n",
       "2020-03-06    0.708831\n",
       "2020-03-07         NaN\n",
       "2020-03-08         NaN\n",
       "2020-03-09    0.551901\n",
       "2020-03-09    8.277259\n",
       "2020-03-09    2.729487\n",
       "2020-03-10    1.620804\n",
       "2020-03-11    0.808056\n",
       "2020-03-12   -1.286969\n",
       "2020-03-13   -0.212149\n",
       "2020-03-14         NaN\n",
       "2020-03-16         NaN\n",
       "2020-03-16         NaN\n",
       "dtype: float64"
      ]
     },
     "execution_count": 80,
     "metadata": {},
     "output_type": "execute_result"
    }
   ],
   "source": [
    "ts / ts.shift(1, freq='B')"
   ]
  },
  {
   "cell_type": "code",
   "execution_count": 81,
   "metadata": {},
   "outputs": [
    {
     "data": {
      "text/plain": [
       "2020-03-01          NaN\n",
       "2020-03-02     1.427415\n",
       "2020-03-03     1.922040\n",
       "2020-03-04     0.065304\n",
       "2020-03-05     1.282702\n",
       "2020-03-06    -0.410774\n",
       "2020-03-07   -13.997715\n",
       "2020-03-08     0.670243\n",
       "2020-03-09     0.633631\n",
       "2020-03-10     0.383022\n",
       "2020-03-11    -0.237538\n",
       "2020-03-12     1.777020\n",
       "2020-03-13     5.713675\n",
       "2020-03-14    -0.201294\n",
       "Freq: D, dtype: float64"
      ]
     },
     "execution_count": 81,
     "metadata": {},
     "output_type": "execute_result"
    }
   ],
   "source": [
    "(ts-ts.shift(1)) /ts"
   ]
  },
  {
   "cell_type": "code",
   "execution_count": 82,
   "metadata": {},
   "outputs": [
    {
     "data": {
      "text/plain": [
       "2020-03-01 05:00:00   -0.204708\n",
       "2020-03-02 05:00:00    0.478943\n",
       "2020-03-03 05:00:00   -0.519439\n",
       "2020-03-04 05:00:00   -0.555730\n",
       "2020-03-05 05:00:00    1.965781\n",
       "Freq: D, dtype: float64"
      ]
     },
     "execution_count": 82,
     "metadata": {},
     "output_type": "execute_result"
    }
   ],
   "source": [
    "ts.tshift(5, freq='H').head()"
   ]
  },
  {
   "cell_type": "code",
   "execution_count": 83,
   "metadata": {},
   "outputs": [
    {
     "data": {
      "text/plain": [
       "2020-03-04 00:00:30   -0.555730\n",
       "2020-03-05 00:00:30    1.965781\n",
       "2020-03-06 00:00:30    1.393406\n",
       "Freq: D, dtype: float64"
      ]
     },
     "execution_count": 83,
     "metadata": {},
     "output_type": "execute_result"
    }
   ],
   "source": [
    "ts.shift(1, DateOffset(minutes=0.5))[3:6]"
   ]
  },
  {
   "cell_type": "code",
   "execution_count": 84,
   "metadata": {},
   "outputs": [
    {
     "data": {
      "text/plain": [
       "2020-03-09 23:00:00    1.246435\n",
       "2020-03-10 23:00:00    1.007189\n",
       "2020-03-11 23:00:00   -1.296221\n",
       "2020-03-12 23:00:00    0.274992\n",
       "2020-03-13 23:00:00    0.228913\n",
       "Freq: D, dtype: float64"
      ]
     },
     "execution_count": 84,
     "metadata": {},
     "output_type": "execute_result"
    }
   ],
   "source": [
    "ts.tshift(-1, freq='H').tail()"
   ]
  },
  {
   "cell_type": "markdown",
   "metadata": {},
   "source": [
    "## 時間序列的頻率轉換"
   ]
  },
  {
   "cell_type": "code",
   "execution_count": 85,
   "metadata": {},
   "outputs": [],
   "source": [
    "periods = 31 * 24"
   ]
  },
  {
   "cell_type": "code",
   "execution_count": 86,
   "metadata": {},
   "outputs": [
    {
     "data": {
      "text/plain": [
       "744"
      ]
     },
     "execution_count": 86,
     "metadata": {},
     "output_type": "execute_result"
    }
   ],
   "source": [
    "periods"
   ]
  },
  {
   "cell_type": "code",
   "execution_count": 88,
   "metadata": {},
   "outputs": [
    {
     "data": {
      "text/plain": [
       "2020-01-01 00:00:00    0\n",
       "2020-01-01 02:00:00    1\n",
       "2020-01-01 04:00:00    2\n",
       "2020-01-01 06:00:00    3\n",
       "2020-01-01 08:00:00    4\n",
       "Freq: 2H, dtype: int32"
      ]
     },
     "execution_count": 88,
     "metadata": {},
     "output_type": "execute_result"
    }
   ],
   "source": [
    "hourly = pd.Series(np.arange(0, periods),\n",
    "                pd.date_range('01-01-2020',\n",
    "                             freq='2H',\n",
    "                             periods = periods))\n",
    "hourly[:5]"
   ]
  },
  {
   "cell_type": "code",
   "execution_count": 89,
   "metadata": {},
   "outputs": [
    {
     "data": {
      "text/plain": [
       "array([  0,   1,   2,   3,   4,   5,   6,   7,   8,   9,  10,  11,  12,\n",
       "        13,  14,  15,  16,  17,  18,  19,  20,  21,  22,  23,  24,  25,\n",
       "        26,  27,  28,  29,  30,  31,  32,  33,  34,  35,  36,  37,  38,\n",
       "        39,  40,  41,  42,  43,  44,  45,  46,  47,  48,  49,  50,  51,\n",
       "        52,  53,  54,  55,  56,  57,  58,  59,  60,  61,  62,  63,  64,\n",
       "        65,  66,  67,  68,  69,  70,  71,  72,  73,  74,  75,  76,  77,\n",
       "        78,  79,  80,  81,  82,  83,  84,  85,  86,  87,  88,  89,  90,\n",
       "        91,  92,  93,  94,  95,  96,  97,  98,  99, 100, 101, 102, 103,\n",
       "       104, 105, 106, 107, 108, 109, 110, 111, 112, 113, 114, 115, 116,\n",
       "       117, 118, 119, 120, 121, 122, 123, 124, 125, 126, 127, 128, 129,\n",
       "       130, 131, 132, 133, 134, 135, 136, 137, 138, 139, 140, 141, 142,\n",
       "       143, 144, 145, 146, 147, 148, 149, 150, 151, 152, 153, 154, 155,\n",
       "       156, 157, 158, 159, 160, 161, 162, 163, 164, 165, 166, 167, 168,\n",
       "       169, 170, 171, 172, 173, 174, 175, 176, 177, 178, 179, 180, 181,\n",
       "       182, 183, 184, 185, 186, 187, 188, 189, 190, 191, 192, 193, 194,\n",
       "       195, 196, 197, 198, 199, 200, 201, 202, 203, 204, 205, 206, 207,\n",
       "       208, 209, 210, 211, 212, 213, 214, 215, 216, 217, 218, 219, 220,\n",
       "       221, 222, 223, 224, 225, 226, 227, 228, 229, 230, 231, 232, 233,\n",
       "       234, 235, 236, 237, 238, 239, 240, 241, 242, 243, 244, 245, 246,\n",
       "       247, 248, 249, 250, 251, 252, 253, 254, 255, 256, 257, 258, 259,\n",
       "       260, 261, 262, 263, 264, 265, 266, 267, 268, 269, 270, 271, 272,\n",
       "       273, 274, 275, 276, 277, 278, 279, 280, 281, 282, 283, 284, 285,\n",
       "       286, 287, 288, 289, 290, 291, 292, 293, 294, 295, 296, 297, 298,\n",
       "       299, 300, 301, 302, 303, 304, 305, 306, 307, 308, 309, 310, 311,\n",
       "       312, 313, 314, 315, 316, 317, 318, 319, 320, 321, 322, 323, 324,\n",
       "       325, 326, 327, 328, 329, 330, 331, 332, 333, 334, 335, 336, 337,\n",
       "       338, 339, 340, 341, 342, 343, 344, 345, 346, 347, 348, 349, 350,\n",
       "       351, 352, 353, 354, 355, 356, 357, 358, 359, 360, 361, 362, 363,\n",
       "       364, 365, 366, 367, 368, 369, 370, 371, 372, 373, 374, 375, 376,\n",
       "       377, 378, 379, 380, 381, 382, 383, 384, 385, 386, 387, 388, 389,\n",
       "       390, 391, 392, 393, 394, 395, 396, 397, 398, 399, 400, 401, 402,\n",
       "       403, 404, 405, 406, 407, 408, 409, 410, 411, 412, 413, 414, 415,\n",
       "       416, 417, 418, 419, 420, 421, 422, 423, 424, 425, 426, 427, 428,\n",
       "       429, 430, 431, 432, 433, 434, 435, 436, 437, 438, 439, 440, 441,\n",
       "       442, 443, 444, 445, 446, 447, 448, 449, 450, 451, 452, 453, 454,\n",
       "       455, 456, 457, 458, 459, 460, 461, 462, 463, 464, 465, 466, 467,\n",
       "       468, 469, 470, 471, 472, 473, 474, 475, 476, 477, 478, 479, 480,\n",
       "       481, 482, 483, 484, 485, 486, 487, 488, 489, 490, 491, 492, 493,\n",
       "       494, 495, 496, 497, 498, 499, 500, 501, 502, 503, 504, 505, 506,\n",
       "       507, 508, 509, 510, 511, 512, 513, 514, 515, 516, 517, 518, 519,\n",
       "       520, 521, 522, 523, 524, 525, 526, 527, 528, 529, 530, 531, 532,\n",
       "       533, 534, 535, 536, 537, 538, 539, 540, 541, 542, 543, 544, 545,\n",
       "       546, 547, 548, 549, 550, 551, 552, 553, 554, 555, 556, 557, 558,\n",
       "       559, 560, 561, 562, 563, 564, 565, 566, 567, 568, 569, 570, 571,\n",
       "       572, 573, 574, 575, 576, 577, 578, 579, 580, 581, 582, 583, 584,\n",
       "       585, 586, 587, 588, 589, 590, 591, 592, 593, 594, 595, 596, 597,\n",
       "       598, 599, 600, 601, 602, 603, 604, 605, 606, 607, 608, 609, 610,\n",
       "       611, 612, 613, 614, 615, 616, 617, 618, 619, 620, 621, 622, 623,\n",
       "       624, 625, 626, 627, 628, 629, 630, 631, 632, 633, 634, 635, 636,\n",
       "       637, 638, 639, 640, 641, 642, 643, 644, 645, 646, 647, 648, 649,\n",
       "       650, 651, 652, 653, 654, 655, 656, 657, 658, 659, 660, 661, 662,\n",
       "       663, 664, 665, 666, 667, 668, 669, 670, 671, 672, 673, 674, 675,\n",
       "       676, 677, 678, 679, 680, 681, 682, 683, 684, 685, 686, 687, 688,\n",
       "       689, 690, 691, 692, 693, 694, 695, 696, 697, 698, 699, 700, 701,\n",
       "       702, 703, 704, 705, 706, 707, 708, 709, 710, 711, 712, 713, 714,\n",
       "       715, 716, 717, 718, 719, 720, 721, 722, 723, 724, 725, 726, 727,\n",
       "       728, 729, 730, 731, 732, 733, 734, 735, 736, 737, 738, 739, 740,\n",
       "       741, 742, 743])"
      ]
     },
     "execution_count": 89,
     "metadata": {},
     "output_type": "execute_result"
    }
   ],
   "source": [
    "np.arange(0, periods)"
   ]
  },
  {
   "cell_type": "code",
   "execution_count": 90,
   "metadata": {},
   "outputs": [
    {
     "data": {
      "text/plain": [
       "2020-01-01     0\n",
       "2020-01-02    12\n",
       "2020-01-03    24\n",
       "2020-01-04    36\n",
       "2020-01-05    48\n",
       "Freq: D, dtype: int32"
      ]
     },
     "execution_count": 90,
     "metadata": {},
     "output_type": "execute_result"
    }
   ],
   "source": [
    "daily = hourly.asfreq('D')\n",
    "daily[:5]"
   ]
  },
  {
   "cell_type": "code",
   "execution_count": 91,
   "metadata": {},
   "outputs": [
    {
     "data": {
      "text/plain": [
       "2020-01-02 06:00:00   NaN\n",
       "2020-01-02 07:00:00   NaN\n",
       "2020-01-02 08:00:00   NaN\n",
       "2020-01-02 09:00:00   NaN\n",
       "2020-01-02 10:00:00   NaN\n",
       "2020-01-02 11:00:00   NaN\n",
       "2020-01-02 12:00:00   NaN\n",
       "2020-01-02 13:00:00   NaN\n",
       "2020-01-02 14:00:00   NaN\n",
       "2020-01-02 15:00:00   NaN\n",
       "Freq: H, dtype: float64"
      ]
     },
     "execution_count": 91,
     "metadata": {},
     "output_type": "execute_result"
    }
   ],
   "source": [
    "daily.asfreq('H')[30:40]"
   ]
  },
  {
   "cell_type": "code",
   "execution_count": 92,
   "metadata": {},
   "outputs": [
    {
     "data": {
      "text/plain": [
       "2020-03-01 15:00:00    720\n",
       "2020-03-01 16:00:00    720\n",
       "2020-03-01 17:00:00    720\n",
       "2020-03-01 18:00:00    720\n",
       "2020-03-01 19:00:00    720\n",
       "2020-03-01 20:00:00    720\n",
       "2020-03-01 21:00:00    720\n",
       "2020-03-01 22:00:00    720\n",
       "2020-03-01 23:00:00    720\n",
       "2020-03-02 00:00:00    732\n",
       "Freq: H, dtype: int32"
      ]
     },
     "execution_count": 92,
     "metadata": {},
     "output_type": "execute_result"
    }
   ],
   "source": [
    "daily.asfreq('H', method='ffill').tail(10)"
   ]
  },
  {
   "cell_type": "code",
   "execution_count": 93,
   "metadata": {},
   "outputs": [
    {
     "data": {
      "text/plain": [
       "2020-01-01 10:00:00    12\n",
       "2020-01-01 11:00:00    12\n",
       "2020-01-01 12:00:00    12\n",
       "2020-01-01 13:00:00    12\n",
       "2020-01-01 14:00:00    12\n",
       "2020-01-01 15:00:00    12\n",
       "2020-01-01 16:00:00    12\n",
       "2020-01-01 17:00:00    12\n",
       "2020-01-01 18:00:00    12\n",
       "2020-01-01 19:00:00    12\n",
       "Freq: H, dtype: int32"
      ]
     },
     "execution_count": 93,
     "metadata": {},
     "output_type": "execute_result"
    }
   ],
   "source": [
    "daily.asfreq('H', method='bfill')[10:20]"
   ]
  },
  {
   "cell_type": "markdown",
   "metadata": {},
   "source": [
    "## 隨機漫步取樣"
   ]
  },
  {
   "cell_type": "code",
   "execution_count": 5,
   "metadata": {},
   "outputs": [
    {
     "data": {
      "text/plain": [
       "2020-03-01 00:00:00      0.469112\n",
       "2020-03-01 00:00:01      0.186249\n",
       "2020-03-01 00:00:02     -1.322810\n",
       "2020-03-01 00:00:03     -2.458442\n",
       "2020-03-01 00:00:04     -1.246330\n",
       "                          ...    \n",
       "2020-03-05 23:59:55    456.529763\n",
       "2020-03-05 23:59:56    456.052131\n",
       "2020-03-05 23:59:57    455.202981\n",
       "2020-03-05 23:59:58    454.947362\n",
       "2020-03-05 23:59:59    456.191430\n",
       "Freq: S, Length: 432000, dtype: float64"
      ]
     },
     "execution_count": 5,
     "metadata": {},
     "output_type": "execute_result"
    }
   ],
   "source": [
    "count = 24 * 60 * 60 * 5\n",
    "np.random.seed(123456)\n",
    "values = np.random.randn(count)\n",
    "ws = pd.Series(values)\n",
    "walk = ws.cumsum() #累加量\n",
    "walk.index = pd.date_range('2020-03-01', periods=count, freq='S')\n",
    "walk"
   ]
  },
  {
   "cell_type": "code",
   "execution_count": 6,
   "metadata": {},
   "outputs": [
    {
     "data": {
      "text/plain": [
       "2020-03-01 00:00:00     -8.718220\n",
       "2020-03-01 00:01:00    -15.239213\n",
       "2020-03-01 00:02:00     -9.179315\n",
       "2020-03-01 00:03:00     -8.338307\n",
       "2020-03-01 00:04:00     -8.129554\n",
       "                          ...    \n",
       "2020-03-05 23:55:00    453.773467\n",
       "2020-03-05 23:56:00    450.857039\n",
       "2020-03-05 23:57:00    450.078149\n",
       "2020-03-05 23:58:00    444.637806\n",
       "2020-03-05 23:59:00    453.837417\n",
       "Freq: T, Length: 7200, dtype: float64"
      ]
     },
     "execution_count": 6,
     "metadata": {},
     "output_type": "execute_result"
    }
   ],
   "source": [
    "walk.resample('1Min').mean()"
   ]
  },
  {
   "cell_type": "code",
   "execution_count": 7,
   "metadata": {},
   "outputs": [
    {
     "data": {
      "text/plain": [
       "-8.718220052832644"
      ]
     },
     "execution_count": 7,
     "metadata": {},
     "output_type": "execute_result"
    }
   ],
   "source": [
    "walk['2020-03-01 00:00'].mean()"
   ]
  },
  {
   "cell_type": "code",
   "execution_count": 8,
   "metadata": {},
   "outputs": [
    {
     "data": {
      "text/plain": [
       "2020-02-29 23:59:00      0.469112\n",
       "2020-03-01 00:00:00     -8.907477\n",
       "2020-03-01 00:01:00    -15.280685\n",
       "2020-03-01 00:02:00     -9.083865\n",
       "2020-03-01 00:03:00     -8.285550\n",
       "                          ...    \n",
       "2020-03-05 23:55:00    453.726168\n",
       "2020-03-05 23:56:00    450.849039\n",
       "2020-03-05 23:57:00    450.039159\n",
       "2020-03-05 23:58:00    444.631719\n",
       "2020-03-05 23:59:00    453.955377\n",
       "Freq: T, Length: 7201, dtype: float64"
      ]
     },
     "execution_count": 8,
     "metadata": {},
     "output_type": "execute_result"
    }
   ],
   "source": [
    "walk.resample('1Min', closed='right').mean()"
   ]
  },
  {
   "cell_type": "code",
   "execution_count": 9,
   "metadata": {},
   "outputs": [
    {
     "data": {
      "text/plain": [
       "2020-03-01 00:00:00      0.469112\n",
       "2020-03-01 00:01:00    -10.886314\n",
       "2020-03-01 00:02:00    -13.374656\n",
       "2020-03-01 00:03:00     -7.647693\n",
       "2020-03-01 00:04:00     -4.482292\n",
       "                          ...    \n",
       "2020-03-05 23:55:00    452.900335\n",
       "2020-03-05 23:56:00    450.062374\n",
       "2020-03-05 23:57:00    449.582419\n",
       "2020-03-05 23:58:00    447.243014\n",
       "2020-03-05 23:59:00    446.877810\n",
       "Freq: T, Length: 7200, dtype: float64"
      ]
     },
     "execution_count": 9,
     "metadata": {},
     "output_type": "execute_result"
    }
   ],
   "source": [
    "walk.resample('1Min').first()"
   ]
  },
  {
   "cell_type": "code",
   "execution_count": 10,
   "metadata": {},
   "outputs": [
    {
     "data": {
      "text/plain": [
       "2020-03-01 00:00:00     -8.718220\n",
       "2020-03-01 00:00:01           NaN\n",
       "2020-03-01 00:00:02           NaN\n",
       "2020-03-01 00:00:03           NaN\n",
       "2020-03-01 00:00:04           NaN\n",
       "                          ...    \n",
       "2020-03-05 23:58:56           NaN\n",
       "2020-03-05 23:58:57           NaN\n",
       "2020-03-05 23:58:58           NaN\n",
       "2020-03-05 23:58:59           NaN\n",
       "2020-03-05 23:59:00    453.837417\n",
       "Freq: S, Length: 431941, dtype: float64"
      ]
     },
     "execution_count": 10,
     "metadata": {},
     "output_type": "execute_result"
    }
   ],
   "source": [
    "bymin = walk.resample('1Min').mean()\n",
    "bymin.resample('S').mean()"
   ]
  },
  {
   "cell_type": "code",
   "execution_count": 11,
   "metadata": {},
   "outputs": [
    {
     "data": {
      "text/plain": [
       "2020-03-01 00:00:00     -8.718220\n",
       "2020-03-01 00:00:01    -15.239213\n",
       "2020-03-01 00:00:02    -15.239213\n",
       "2020-03-01 00:00:03    -15.239213\n",
       "2020-03-01 00:00:04    -15.239213\n",
       "                          ...    \n",
       "2020-03-05 23:58:56    453.837417\n",
       "2020-03-05 23:58:57    453.837417\n",
       "2020-03-05 23:58:58    453.837417\n",
       "2020-03-05 23:58:59    453.837417\n",
       "2020-03-05 23:59:00    453.837417\n",
       "Freq: S, Length: 431941, dtype: float64"
      ]
     },
     "execution_count": 11,
     "metadata": {},
     "output_type": "execute_result"
    }
   ],
   "source": [
    "bymin.resample('S').bfill()"
   ]
  },
  {
   "cell_type": "code",
   "execution_count": 12,
   "metadata": {},
   "outputs": [
    {
     "data": {
      "text/plain": [
       "2020-03-01 00:00:00     -8.718220\n",
       "2020-03-01 00:00:01     -8.826903\n",
       "2020-03-01 00:00:02     -8.935586\n",
       "2020-03-01 00:00:03     -9.044270\n",
       "2020-03-01 00:00:04     -9.152953\n",
       "                          ...    \n",
       "2020-03-05 23:58:56    453.224110\n",
       "2020-03-05 23:58:57    453.377437\n",
       "2020-03-05 23:58:58    453.530764\n",
       "2020-03-05 23:58:59    453.684090\n",
       "2020-03-05 23:59:00    453.837417\n",
       "Freq: S, Length: 431941, dtype: float64"
      ]
     },
     "execution_count": 12,
     "metadata": {},
     "output_type": "execute_result"
    }
   ],
   "source": [
    "interpolated = bymin.resample('S').interpolate()\n",
    "interpolated"
   ]
  },
  {
   "cell_type": "code",
   "execution_count": 13,
   "metadata": {},
   "outputs": [
    {
     "data": {
      "text/html": [
       "<div>\n",
       "<style scoped>\n",
       "    .dataframe tbody tr th:only-of-type {\n",
       "        vertical-align: middle;\n",
       "    }\n",
       "\n",
       "    .dataframe tbody tr th {\n",
       "        vertical-align: top;\n",
       "    }\n",
       "\n",
       "    .dataframe thead th {\n",
       "        text-align: right;\n",
       "    }\n",
       "</style>\n",
       "<table border=\"1\" class=\"dataframe\">\n",
       "  <thead>\n",
       "    <tr style=\"text-align: right;\">\n",
       "      <th></th>\n",
       "      <th>open</th>\n",
       "      <th>high</th>\n",
       "      <th>low</th>\n",
       "      <th>close</th>\n",
       "    </tr>\n",
       "  </thead>\n",
       "  <tbody>\n",
       "    <tr>\n",
       "      <td>2020-03-01 00:00:00</td>\n",
       "      <td>0.469112</td>\n",
       "      <td>0.469112</td>\n",
       "      <td>-67.873166</td>\n",
       "      <td>-2.922520</td>\n",
       "    </tr>\n",
       "    <tr>\n",
       "      <td>2020-03-01 01:00:00</td>\n",
       "      <td>-3.374321</td>\n",
       "      <td>23.793007</td>\n",
       "      <td>-56.585154</td>\n",
       "      <td>-55.101543</td>\n",
       "    </tr>\n",
       "    <tr>\n",
       "      <td>2020-03-01 02:00:00</td>\n",
       "      <td>-54.276885</td>\n",
       "      <td>5.232441</td>\n",
       "      <td>-87.809456</td>\n",
       "      <td>1.913276</td>\n",
       "    </tr>\n",
       "    <tr>\n",
       "      <td>2020-03-01 03:00:00</td>\n",
       "      <td>0.260576</td>\n",
       "      <td>17.124638</td>\n",
       "      <td>-65.820652</td>\n",
       "      <td>-38.530620</td>\n",
       "    </tr>\n",
       "    <tr>\n",
       "      <td>2020-03-01 04:00:00</td>\n",
       "      <td>-38.436581</td>\n",
       "      <td>3.537231</td>\n",
       "      <td>-109.805294</td>\n",
       "      <td>-61.014553</td>\n",
       "    </tr>\n",
       "    <tr>\n",
       "      <td>...</td>\n",
       "      <td>...</td>\n",
       "      <td>...</td>\n",
       "      <td>...</td>\n",
       "      <td>...</td>\n",
       "    </tr>\n",
       "    <tr>\n",
       "      <td>2020-03-05 19:00:00</td>\n",
       "      <td>437.652077</td>\n",
       "      <td>550.408942</td>\n",
       "      <td>430.549178</td>\n",
       "      <td>494.471788</td>\n",
       "    </tr>\n",
       "    <tr>\n",
       "      <td>2020-03-05 20:00:00</td>\n",
       "      <td>496.539759</td>\n",
       "      <td>510.371745</td>\n",
       "      <td>456.365565</td>\n",
       "      <td>476.505765</td>\n",
       "    </tr>\n",
       "    <tr>\n",
       "      <td>2020-03-05 21:00:00</td>\n",
       "      <td>476.025498</td>\n",
       "      <td>506.952877</td>\n",
       "      <td>425.472410</td>\n",
       "      <td>498.547578</td>\n",
       "    </tr>\n",
       "    <tr>\n",
       "      <td>2020-03-05 22:00:00</td>\n",
       "      <td>497.941355</td>\n",
       "      <td>506.599652</td>\n",
       "      <td>411.119919</td>\n",
       "      <td>443.925832</td>\n",
       "    </tr>\n",
       "    <tr>\n",
       "      <td>2020-03-05 23:00:00</td>\n",
       "      <td>443.017962</td>\n",
       "      <td>489.083657</td>\n",
       "      <td>426.062444</td>\n",
       "      <td>456.191430</td>\n",
       "    </tr>\n",
       "  </tbody>\n",
       "</table>\n",
       "<p>120 rows × 4 columns</p>\n",
       "</div>"
      ],
      "text/plain": [
       "                           open        high         low       close\n",
       "2020-03-01 00:00:00    0.469112    0.469112  -67.873166   -2.922520\n",
       "2020-03-01 01:00:00   -3.374321   23.793007  -56.585154  -55.101543\n",
       "2020-03-01 02:00:00  -54.276885    5.232441  -87.809456    1.913276\n",
       "2020-03-01 03:00:00    0.260576   17.124638  -65.820652  -38.530620\n",
       "2020-03-01 04:00:00  -38.436581    3.537231 -109.805294  -61.014553\n",
       "...                         ...         ...         ...         ...\n",
       "2020-03-05 19:00:00  437.652077  550.408942  430.549178  494.471788\n",
       "2020-03-05 20:00:00  496.539759  510.371745  456.365565  476.505765\n",
       "2020-03-05 21:00:00  476.025498  506.952877  425.472410  498.547578\n",
       "2020-03-05 22:00:00  497.941355  506.599652  411.119919  443.925832\n",
       "2020-03-05 23:00:00  443.017962  489.083657  426.062444  456.191430\n",
       "\n",
       "[120 rows x 4 columns]"
      ]
     },
     "execution_count": 13,
     "metadata": {},
     "output_type": "execute_result"
    }
   ],
   "source": [
    "ohlc = walk.resample('H').ohlc()\n",
    "ohlc"
   ]
  },
  {
   "cell_type": "code",
   "execution_count": 14,
   "metadata": {},
   "outputs": [
    {
     "data": {
      "text/plain": [
       "2020-03-01 00:00:00     0.469112\n",
       "2020-03-01 00:00:01     0.186249\n",
       "2020-03-01 00:00:02    -1.322810\n",
       "2020-03-01 00:00:03    -2.458442\n",
       "2020-03-01 00:00:04    -1.246330\n",
       "2020-03-01 00:00:05    -1.419545\n",
       "2020-03-01 00:00:06    -1.300336\n",
       "2020-03-01 00:00:07    -2.344572\n",
       "2020-03-01 00:00:08    -3.206421\n",
       "2020-03-01 00:00:09    -5.310990\n",
       "2020-03-01 00:00:10    -5.805919\n",
       "2020-03-01 00:00:11    -4.734115\n",
       "2020-03-01 00:00:12    -4.012560\n",
       "2020-03-01 00:00:13    -4.719331\n",
       "2020-03-01 00:00:14    -5.758906\n",
       "2020-03-01 00:00:15    -5.487047\n",
       "2020-03-01 00:00:16    -5.912019\n",
       "2020-03-01 00:00:17    -5.344998\n",
       "2020-03-01 00:00:18    -5.068766\n",
       "2020-03-01 00:00:19    -6.156167\n",
       "2020-03-01 00:00:20    -6.829857\n",
       "2020-03-01 00:00:21    -6.716208\n",
       "2020-03-01 00:00:22    -8.194635\n",
       "2020-03-01 00:00:23    -7.669647\n",
       "2020-03-01 00:00:24    -7.264942\n",
       "2020-03-01 00:00:25    -6.687896\n",
       "2020-03-01 00:00:26    -8.402898\n",
       "2020-03-01 00:00:27    -9.442167\n",
       "2020-03-01 00:00:28    -9.812814\n",
       "2020-03-01 00:00:29   -10.970706\n",
       "2020-03-01 00:00:30   -12.315018\n",
       "2020-03-01 00:00:31   -11.470132\n",
       "2020-03-01 00:00:32   -10.394363\n",
       "2020-03-01 00:00:33   -10.503413\n",
       "2020-03-01 00:00:34    -8.859850\n",
       "2020-03-01 00:00:35   -10.329238\n",
       "2020-03-01 00:00:36    -9.972217\n",
       "2020-03-01 00:00:37   -10.646817\n",
       "2020-03-01 00:00:38   -12.423721\n",
       "2020-03-01 00:00:39   -13.392635\n",
       "2020-03-01 00:00:40   -14.687158\n",
       "2020-03-01 00:00:41   -14.273420\n",
       "2020-03-01 00:00:42   -13.996758\n",
       "2020-03-01 00:00:43   -14.468793\n",
       "2020-03-01 00:00:44   -14.482753\n",
       "2020-03-01 00:00:45   -14.845296\n",
       "2020-03-01 00:00:46   -14.851449\n",
       "2020-03-01 00:00:47   -15.774510\n",
       "2020-03-01 00:00:48   -14.878793\n",
       "2020-03-01 00:00:49   -14.073549\n",
       "2020-03-01 00:00:50   -15.279960\n",
       "2020-03-01 00:00:51   -12.714314\n",
       "2020-03-01 00:00:52   -11.283058\n",
       "2020-03-01 00:00:53    -9.942750\n",
       "2020-03-01 00:00:54   -11.113048\n",
       "2020-03-01 00:00:55   -11.339218\n",
       "2020-03-01 00:00:56   -10.928383\n",
       "2020-03-01 00:00:57   -10.114533\n",
       "2020-03-01 00:00:58    -9.982530\n",
       "2020-03-01 00:00:59   -10.809847\n",
       "Freq: S, dtype: float64"
      ]
     },
     "execution_count": 14,
     "metadata": {},
     "output_type": "execute_result"
    }
   ],
   "source": [
    "first_minute = walk['2020-03-01 00:00']\n",
    "first_minute"
   ]
  },
  {
   "cell_type": "code",
   "execution_count": 15,
   "metadata": {},
   "outputs": [
    {
     "data": {
      "text/plain": [
       "<matplotlib.axes._subplots.AxesSubplot at 0xf1698c8>"
      ]
     },
     "execution_count": 15,
     "metadata": {},
     "output_type": "execute_result"
    },
    {
     "data": {
      "image/png": "[encoded data removed]",
      "text/plain": [
       "<Figure size 432x288 with 1 Axes>"
      ]
     },
     "metadata": {
      "needs_background": "light"
     },
     "output_type": "display_data"
    }
   ],
   "source": [
    "means = first_minute.rolling(window=5, center=False).mean()\n",
    "means.plot()"
   ]
  },
  {
   "cell_type": "code",
   "execution_count": 16,
   "metadata": {},
   "outputs": [
    {
     "data": {
      "text/plain": [
       "<matplotlib.axes._subplots.AxesSubplot at 0x53e66c8>"
      ]
     },
     "execution_count": 16,
     "metadata": {},
     "output_type": "execute_result"
    },
    {
     "data": {
      "image/png": "[encoded data removed]",
      "text/plain": [
       "<Figure size 432x288 with 1 Axes>"
      ]
     },
     "metadata": {
      "needs_background": "light"
     },
     "output_type": "display_data"
    }
   ],
   "source": [
    "first_minute.plot()"
   ]
  },
  {
   "cell_type": "code",
   "execution_count": 17,
   "metadata": {},
   "outputs": [
    {
     "data": {
      "text/plain": [
       "<matplotlib.axes._subplots.AxesSubplot at 0x1033a748>"
      ]
     },
     "execution_count": 17,
     "metadata": {},
     "output_type": "execute_result"
    },
    {
     "data": {
      "image/png": "[encoded data removed]",
      "text/plain": [
       "<Figure size 432x288 with 1 Axes>"
      ]
     },
     "metadata": {
      "needs_background": "light"
     },
     "output_type": "display_data"
    }
   ],
   "source": [
    "h1w = walk['2020-03-01 00:00']\n",
    "means2 = h1w.rolling(window=2, center=False).mean()\n",
    "means5 = h1w.rolling(window=5, center=False).mean()\n",
    "means10 = h1w.rolling(window=10, center=False).mean()\n",
    "h1w.plot()"
   ]
  },
  {
   "cell_type": "code",
   "execution_count": 18,
   "metadata": {},
   "outputs": [
    {
     "data": {
      "text/plain": [
       "<matplotlib.axes._subplots.AxesSubplot at 0x1039ab08>"
      ]
     },
     "execution_count": 18,
     "metadata": {},
     "output_type": "execute_result"
    },
    {
     "data": {
      "image/png": "[encoded data removed]",
      "text/plain": [
       "<Figure size 432x288 with 1 Axes>"
      ]
     },
     "metadata": {
      "needs_background": "light"
     },
     "output_type": "display_data"
    }
   ],
   "source": [
    "means2.plot()"
   ]
  },
  {
   "cell_type": "code",
   "execution_count": 19,
   "metadata": {},
   "outputs": [
    {
     "data": {
      "text/plain": [
       "<matplotlib.axes._subplots.AxesSubplot at 0x10407b48>"
      ]
     },
     "execution_count": 19,
     "metadata": {},
     "output_type": "execute_result"
    },
    {
     "data": {
      "image/png": "[encoded data removed]",
      "text/plain": [
       "<Figure size 432x288 with 1 Axes>"
      ]
     },
     "metadata": {
      "needs_background": "light"
     },
     "output_type": "display_data"
    }
   ],
   "source": [
    "means5.plot()"
   ]
  },
  {
   "cell_type": "code",
   "execution_count": 20,
   "metadata": {},
   "outputs": [
    {
     "data": {
      "text/plain": [
       "<matplotlib.axes._subplots.AxesSubplot at 0x1046ca48>"
      ]
     },
     "execution_count": 20,
     "metadata": {},
     "output_type": "execute_result"
    },
    {
     "data": {
      "image/png": "[encoded data removed]",
      "text/plain": [
       "<Figure size 432x288 with 1 Axes>"
      ]
     },
     "metadata": {
      "needs_background": "light"
     },
     "output_type": "display_data"
    }
   ],
   "source": [
    "means10.plot()"
   ]
  },
  {
   "cell_type": "code",
   "execution_count": 22,
   "metadata": {},
   "outputs": [
    {
     "name": "stderr",
     "output_type": "stream",
     "text": [
      "C:\\Users\\Owner\\Anaconda3\\lib\\site-packages\\ipykernel_launcher.py:2: FutureWarning: Currently, 'apply' passes the values as ndarrays to the applied function. In the future, this will change to passing it as Series objects. You need to specify 'raw=True' to keep the current behaviour, and you can pass 'raw=False' to silence this warning\n",
      "  \n"
     ]
    },
    {
     "data": {
      "text/plain": [
       "<matplotlib.axes._subplots.AxesSubplot at 0x11a41748>"
      ]
     },
     "execution_count": 22,
     "metadata": {},
     "output_type": "execute_result"
    },
    {
     "data": {
      "image/png": "[encoded data removed]",
      "text/plain": [
       "<Figure size 432x288 with 1 Axes>"
      ]
     },
     "metadata": {
      "needs_background": "light"
     },
     "output_type": "display_data"
    }
   ],
   "source": [
    "mean_abs_dev = lambda x: np.fabs(x - x.mean()).mean() # np.fabs() 浮點數\n",
    "means = h1w.rolling(window=5, center=False).apply(mean_abs_dev)\n",
    "means.plot()"
   ]
  },
  {
   "cell_type": "code",
   "execution_count": 23,
   "metadata": {},
   "outputs": [
    {
     "data": {
      "text/plain": [
       "<matplotlib.axes._subplots.AxesSubplot at 0x11a9fa48>"
      ]
     },
     "execution_count": 23,
     "metadata": {},
     "output_type": "execute_result"
    },
    {
     "data": {
      "image/png": "[encoded data removed]",
      "text/plain": [
       "<Figure size 432x288 with 1 Axes>"
      ]
     },
     "metadata": {
      "needs_background": "light"
     },
     "output_type": "display_data"
    }
   ],
   "source": [
    "h1w.plot()"
   ]
  },
  {
   "cell_type": "code",
   "execution_count": 24,
   "metadata": {},
   "outputs": [
    {
     "data": {
      "text/plain": [
       "<matplotlib.axes._subplots.AxesSubplot at 0x11b12a08>"
      ]
     },
     "execution_count": 24,
     "metadata": {},
     "output_type": "execute_result"
    },
    {
     "data": {
      "image/png": "[encoded data removed]",
      "text/plain": [
       "<Figure size 432x288 with 1 Axes>"
      ]
     },
     "metadata": {
      "needs_background": "light"
     },
     "output_type": "display_data"
    }
   ],
   "source": [
    "expanding = h1w.expanding(min_periods=1).mean()\n",
    "expanding.plot()"
   ]
  },
  {
   "cell_type": "markdown",
   "metadata": {},
   "source": [
    "## For fun 小補充 "
   ]
  },
  {
   "cell_type": "code",
   "execution_count": 25,
   "metadata": {},
   "outputs": [
    {
     "data": {
      "text/plain": [
       "<matplotlib.image.AxesImage at 0x11b95a08>"
      ]
     },
     "execution_count": 25,
     "metadata": {},
     "output_type": "execute_result"
    },
    {
     "data": {
      "image/png": "[encoded data removed]",
      "text/plain": [
       "<Figure size 432x288 with 1 Axes>"
      ]
     },
     "metadata": {
      "needs_background": "light"
     },
     "output_type": "display_data"
    }
   ],
   "source": [
    "img = np.arange(1024).reshape([16, 64])\n",
    "plt.imshow(img)"
   ]
  },
  {
   "cell_type": "code",
   "execution_count": 26,
   "metadata": {},
   "outputs": [],
   "source": [
    "plt.show()"
   ]
  },
  {
   "cell_type": "code",
   "execution_count": 27,
   "metadata": {},
   "outputs": [
    {
     "data": {
      "text/plain": [
       "<matplotlib.image.AxesImage at 0x11c05048>"
      ]
     },
     "execution_count": 27,
     "metadata": {},
     "output_type": "execute_result"
    },
    {
     "data": {
      "image/png": "[encoded data removed]",
      "text/plain": [
       "<Figure size 432x288 with 1 Axes>"
      ]
     },
     "metadata": {
      "needs_background": "light"
     },
     "output_type": "display_data"
    }
   ],
   "source": [
    "img = np.arange(1024).reshape([16, 64])\n",
    "plt.imshow(img, cmap='gray') # camp = color map"
   ]
  },
  {
   "cell_type": "code",
   "execution_count": 28,
   "metadata": {},
   "outputs": [],
   "source": [
    "plt.show()"
   ]
  },
  {
   "cell_type": "code",
   "execution_count": 29,
   "metadata": {},
   "outputs": [],
   "source": [
    "fname = 'redball.jpg'"
   ]
  },
  {
   "cell_type": "code",
   "execution_count": 31,
   "metadata": {},
   "outputs": [],
   "source": [
    "img = plt.imread(fname)"
   ]
  },
  {
   "cell_type": "code",
   "execution_count": 32,
   "metadata": {},
   "outputs": [
    {
     "name": "stdout",
     "output_type": "stream",
     "text": [
      "<class 'numpy.ndarray'>\n"
     ]
    }
   ],
   "source": [
    "print(type(img))"
   ]
  },
  {
   "cell_type": "code",
   "execution_count": 33,
   "metadata": {},
   "outputs": [
    {
     "name": "stdout",
     "output_type": "stream",
     "text": [
      "(194, 259, 3)\n"
     ]
    }
   ],
   "source": [
    "print(img.shape)"
   ]
  },
  {
   "cell_type": "code",
   "execution_count": 34,
   "metadata": {},
   "outputs": [
    {
     "name": "stdout",
     "output_type": "stream",
     "text": [
      "3\n"
     ]
    }
   ],
   "source": [
    "print(img.ndim)"
   ]
  },
  {
   "cell_type": "code",
   "execution_count": 35,
   "metadata": {},
   "outputs": [
    {
     "name": "stdout",
     "output_type": "stream",
     "text": [
      "[[249 249 230 227 225]\n",
      " [228 233 246 252 252]\n",
      " [232 230 250 251 253]\n",
      " [222 229 252 255 255]\n",
      " [255 252 229 221 220]]\n"
     ]
    }
   ],
   "source": [
    "print(img[0:5, 0:5, 0]) # R：紅色"
   ]
  },
  {
   "cell_type": "code",
   "execution_count": 36,
   "metadata": {},
   "outputs": [
    {
     "name": "stdout",
     "output_type": "stream",
     "text": [
      "[[249 249 230 227 225]\n",
      " [228 233 246 252 252]\n",
      " [232 230 250 251 253]\n",
      " [222 229 252 255 255]\n",
      " [255 252 229 221 220]]\n"
     ]
    }
   ],
   "source": [
    "print(img[0:5, 0:5, 1]) # G：綠色"
   ]
  },
  {
   "cell_type": "code",
   "execution_count": 37,
   "metadata": {},
   "outputs": [
    {
     "name": "stdout",
     "output_type": "stream",
     "text": [
      "[[249 249 230 227 225]\n",
      " [228 233 246 252 252]\n",
      " [232 230 250 251 253]\n",
      " [222 229 252 255 255]\n",
      " [255 252 229 221 220]]\n"
     ]
    }
   ],
   "source": [
    "print(img[0:5, 0:5, 2]) # B：藍色"
   ]
  },
  {
   "cell_type": "code",
   "execution_count": 38,
   "metadata": {},
   "outputs": [
    {
     "name": "stdout",
     "output_type": "stream",
     "text": [
      "(194, 259, 3)\n"
     ]
    }
   ],
   "source": [
    "fname = 'redball.jpg'\n",
    "img = plt.imread(fname)\n",
    "print(img.shape)"
   ]
  },
  {
   "cell_type": "code",
   "execution_count": 39,
   "metadata": {},
   "outputs": [
    {
     "data": {
      "text/plain": [
       "<matplotlib.image.AxesImage at 0x128c2148>"
      ]
     },
     "execution_count": 39,
     "metadata": {},
     "output_type": "execute_result"
    },
    {
     "data": {
      "image/png": "[encoded data removed]",
      "text/plain": [
       "<Figure size 432x288 with 1 Axes>"
      ]
     },
     "metadata": {
      "needs_background": "light"
     },
     "output_type": "display_data"
    }
   ],
   "source": [
    "h = img.shape[0] # 高，Y-軸\n",
    "w = img.shape[1] # 寬，X-軸\n",
    "plt.imshow(img)"
   ]
  },
  {
   "cell_type": "code",
   "execution_count": 40,
   "metadata": {},
   "outputs": [],
   "source": [
    "plt.show()"
   ]
  },
  {
   "cell_type": "code",
   "execution_count": 41,
   "metadata": {},
   "outputs": [
    {
     "data": {
      "image/png": "[encoded data removed]",
      "text/plain": [
       "<Figure size 432x288 with 1 Axes>"
      ]
     },
     "metadata": {
      "needs_background": "light"
     },
     "output_type": "display_data"
    }
   ],
   "source": [
    "fname = 'redball.jpg'\n",
    "img = plt.imread(fname)\n",
    "plt.imshow(img[:, :, [2, 1, 0]])\n",
    "plt.show()"
   ]
  },
  {
   "cell_type": "code",
   "execution_count": 42,
   "metadata": {},
   "outputs": [
    {
     "data": {
      "image/png": "[encoded data removed]",
      "text/plain": [
       "<Figure size 432x288 with 1 Axes>"
      ]
     },
     "metadata": {
      "needs_background": "light"
     },
     "output_type": "display_data"
    }
   ],
   "source": [
    "plt.imshow(img[:, :, [1, 0, 2]])\n",
    "plt.show()"
   ]
  },
  {
   "cell_type": "code",
   "execution_count": null,
   "metadata": {},
   "outputs": [],
   "source": []
  }
 ],
 "metadata": {
  "kernelspec": {
   "display_name": "Python 3",
   "language": "python",
   "name": "python3"
  },
  "language_info": {
   "codemirror_mode": {
    "name": "ipython",
    "version": 3
   },
   "file_extension": ".py",
   "mimetype": "text/x-python",
   "name": "python",
   "nbconvert_exporter": "python",
   "pygments_lexer": "ipython3",
   "version": "3.7.4"
  }
 },
 "nbformat": 4,
 "nbformat_minor": 2
}
